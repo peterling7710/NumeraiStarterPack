{
 "cells": [
  {
   "cell_type": "markdown",
   "id": "ba352899",
   "metadata": {},
   "source": [
    "# Unit 4 - Cloud Based Model Training \n",
    "In this notebook we will cover:\n",
    "   1. ***Very*** brief intro to Dask\n",
    "   2. Hosting the Numerai data in S3 \n",
    "   3. Training a model in the cloud with [Coiled](https://coiled.io/product/) and Dask !\n",
    "\n",
    "<img src=\"images/dawg.jpg\" />"
   ]
  },
  {
   "cell_type": "markdown",
   "id": "c02068ac",
   "metadata": {
    "slideshow": {
     "slide_type": "slide"
    }
   },
   "source": [
    "<img src=\"https://kubedex.com/wp-content/uploads/2018/09/dask-logo.png\"\n",
    "     width=\"25%\"\n",
    "     alt=\"Dask logo\\\"/>\n",
    "     \n",
    "## Types of scaling problems in machine learning\n",
    "\n",
    "There are two main types of scaling challenges you can run into in your machine learning workflow: scaling the **size of your data** and scaling the **size of your model**. That is:\n",
    "\n",
    "1. **CPU-bound problems**: Data fits in RAM, but training takes too long. Many hyperparameter combinations, a large ensemble of many models, etc.\n",
    "2. **Memory-bound problems**: Data is larger than RAM, and sampling isn't an option.\n",
    "\n",
    " <img src=\"https://raw.githubusercontent.com/coiled/pydata-global-dask/master/images/grid_search_schedule.gif\"\n",
    "     width=\"50%\"\n",
    "     alt=\"Grid search schedule\\\" />\n"
   ]
  },
  {
   "cell_type": "markdown",
   "id": "c833fcdb",
   "metadata": {
    "slideshow": {
     "slide_type": "slide"
    }
   },
   "source": [
    "## When to use Dask?\n",
    "\n",
    "\n",
    "<img src=\"images/MemoryError.png\" \n",
    "     width=\"55%\"\n",
    "     alt=\"Dask overview\\\" />\n",
    "     \n",
    "     \n",
    "     \n",
    "Before trying to use Dask, there are some questions to determine if Dask might be suitable for you. \n",
    "- Does your data fit in memory? \n",
    "    - Yes: Use pandas or numpy.  \n",
    "    - No : Dask might be able to help. \n",
    "- Do your computations take for ever?\n",
    "    - Yes: Dask might be able to help. \n",
    "    - No : Awesome.\n",
    "- Do you have embarrassingly parallelizable code?\n",
    "    - Yes: Dask might be able to help.\n",
    "    - No?: If you are not sure here are some [examples](https://examples.dask.org/applications/embarrassingly-parallel.html) \n",
    "    - No: I'm sorry, although Dask might have some hope for you.\n"
   ]
  },
  {
   "cell_type": "markdown",
   "id": "b117efaf",
   "metadata": {
    "slideshow": {
     "slide_type": "slide"
    }
   },
   "source": [
    "**Bottom Left:** You don't need Dask.    \n",
    "**Elsewhere:** Dask fair game.\n",
    "\n",
    "\n",
    "<img src=\"https://raw.githubusercontent.com/dask/dask-ml/main/docs/source/images/dimensions_of_scale.svg\"\n",
    "     width=\"50%\"\n",
    "     alt=\"Dask zones\">\n",
    "     "
   ]
  },
  {
   "cell_type": "markdown",
   "id": "f68572b0",
   "metadata": {
    "slideshow": {
     "slide_type": "slide"
    }
   },
   "source": [
    "<img src=\"https://raw.githubusercontent.com/dask/dask/main/docs/source/images/dask-overview.svg\" \n",
    "     width=\"75%\"\n",
    "     alt=\"Dask overview\\\" />"
   ]
  },
  {
   "cell_type": "markdown",
   "id": "94a0737e",
   "metadata": {
    "slideshow": {
     "slide_type": "slide"
    }
   },
   "source": [
    "##  Multi-machine parallelism in the cloud with Coiled\n",
    "\n",
    "<br>\n",
    "<img src=\"https://raw.githubusercontent.com/coiled/data-science-at-scale/master/images/Coiled-Logo_Horizontal_RGB_Black.png\"\n",
    "     alt=\"Coiled logo\" \n",
    "     width=15%/>\n",
    "<br>\n",
    "\n",
    "Coiled, [among other things](https://coiled.io/product/), provides hosted and scalable Dask clusters.\n",
    "\n",
    "<img src=\"images/dask-gcp-bad-guy.png\"\n",
    "     alt=\"Coiled logo\" \n",
    "     width=55%/>\n"
   ]
  },
  {
   "cell_type": "markdown",
   "id": "5b282dde",
   "metadata": {
    "slideshow": {
     "slide_type": "slide"
    }
   },
   "source": [
    "## Alternatives\n",
    "\n",
    "There are **a lot** of alternatives to the setup used in this video, but ultimately I chose Dask/Coiled as it was the first I could get working\n",
    "\n",
    "Some of the alternative technologies/providers:\n",
    "\n",
    "<img src=\"images/options.png\"\n",
    "     width=\"75%\"\n",
    "     alt=\"Grid search schedule\\\" />\n",
    "\n",
    "\n",
    "\n"
   ]
  },
  {
   "cell_type": "code",
   "execution_count": null,
   "id": "62dad954",
   "metadata": {
    "slideshow": {
     "slide_type": "slide"
    }
   },
   "outputs": [],
   "source": []
  },
  {
   "cell_type": "code",
   "execution_count": 5,
   "id": "36a8e23a",
   "metadata": {
    "slideshow": {
     "slide_type": "skip"
    }
   },
   "outputs": [],
   "source": [
    "import coiled\n"
   ]
  },
  {
   "cell_type": "code",
   "execution_count": 6,
   "id": "2dc2d42a",
   "metadata": {},
   "outputs": [],
   "source": [
    "import dask\n",
    "from dask.distributed import Client\n"
   ]
  },
  {
   "cell_type": "code",
   "execution_count": 7,
   "id": "fba3b0ec",
   "metadata": {},
   "outputs": [
    {
     "data": {
      "application/vnd.jupyter.widget-view+json": {
       "model_id": "",
       "version_major": 2,
       "version_minor": 0
      },
      "text/plain": [
       "Output()"
      ]
     },
     "metadata": {},
     "output_type": "display_data"
    },
    {
     "name": "stdout",
     "output_type": "stream",
     "text": [
      "Found software environment build\n",
      "Created fw rule: inbound [8786-8787] [0.0.0.0/0] []\n",
      "Created FW rules: coiled-dask-peterli85-95024-firewall\n",
      "Created fw rule: cluster [0-65535] [None] [coiled-dask-peterli85-95024-firewall -> coiled-dask-peterli85-95024-firewall]\n",
      "Created FW rules: coiled-dask-peterli85-95024-cluster-firewall\n",
      "Created fw rule: cluster [0-65535] [None] [coiled-dask-peterli85-95024-cluster-firewall -> coiled-dask-peterli85-95024-cluster-firewall]\n",
      "Created scheduler VM: coiled-dask-peterli85-95024-scheduler (type: t3.medium, ip: ['44.201.60.149'])\n"
     ]
    },
    {
     "data": {
      "text/html": [
       "<pre style=\"white-space:pre;overflow-x:auto;line-height:normal;font-family:Menlo,'DejaVu Sans Mono',consolas,'Courier New',monospace\"></pre>\n"
      ],
      "text/plain": []
     },
     "metadata": {},
     "output_type": "display_data"
    },
    {
     "name": "stderr",
     "output_type": "stream",
     "text": [
      "distributed.deploy.adaptive - INFO - Adaptive scaling started: minimum=2 maximum=5\n"
     ]
    },
    {
     "data": {
      "text/plain": [
       "<coiled.cluster.CoiledAdaptive at 0x1b90e39a0a0>"
      ]
     },
     "execution_count": 7,
     "metadata": {},
     "output_type": "execute_result"
    }
   ],
   "source": [
    "# Spin up a Coiled cluster\n",
    "cluster = coiled.Cluster(software=\"peterling7710/pling_numerai\", \n",
    "                         backend_options={\"spot\": True}\n",
    "                         #worker_memory=\"16 GiB\",\n",
    "                        )\n",
    "\n",
    "cluster.adapt(minimum=2, maximum=5)\n"
   ]
  },
  {
   "cell_type": "code",
   "execution_count": 8,
   "id": "62b1a207",
   "metadata": {},
   "outputs": [
    {
     "data": {
      "text/html": [
       "<div>\n",
       "    <div style=\"width: 24px; height: 24px; background-color: #e1e1e1; border: 3px solid #9D9D9D; border-radius: 5px; position: absolute;\"> </div>\n",
       "    <div style=\"margin-left: 48px;\">\n",
       "        <h3 style=\"margin-bottom: 0px;\">Client</h3>\n",
       "        <p style=\"color: #9D9D9D; margin-bottom: 0px;\">Client-48f00aaf-716e-11ec-a464-ccf9e4fd1f73</p>\n",
       "        <table style=\"width: 100%; text-align: left;\">\n",
       "\n",
       "        <tr>\n",
       "        \n",
       "            <td style=\"text-align: left;\"><strong>Connection method:</strong> Cluster object</td>\n",
       "            <td style=\"text-align: left;\"><strong>Cluster type:</strong> coiled.Cluster</td>\n",
       "        \n",
       "        </tr>\n",
       "\n",
       "        \n",
       "            <tr>\n",
       "                <td style=\"text-align: left;\">\n",
       "                    <strong>Dashboard: </strong> <a href=\"http://44.201.60.149:8787\" target=\"_blank\">http://44.201.60.149:8787</a>\n",
       "                </td>\n",
       "                <td style=\"text-align: left;\"></td>\n",
       "            </tr>\n",
       "        \n",
       "\n",
       "        </table>\n",
       "\n",
       "        \n",
       "            <details>\n",
       "            <summary style=\"margin-bottom: 20px;\"><h3 style=\"display: inline;\">Cluster Info</h3></summary>\n",
       "            <div class=\"jp-RenderedHTMLCommon jp-RenderedHTML jp-mod-trusted jp-OutputArea-output\">\n",
       "    <div style=\"width: 24px; height: 24px; background-color: #e1e1e1; border: 3px solid #9D9D9D; border-radius: 5px; position: absolute;\">\n",
       "    </div>\n",
       "    <div style=\"margin-left: 48px;\">\n",
       "        <h3 style=\"margin-bottom: 0px; margin-top: 0px;\">Cluster</h3>\n",
       "        <p style=\"color: #9D9D9D; margin-bottom: 0px;\">peterling7710-14cfefa5-5</p>\n",
       "        <table style=\"width: 100%; text-align: left;\">\n",
       "            <tr>\n",
       "                <td style=\"text-align: left;\">\n",
       "                    <strong>Dashboard:</strong> <a href=\"http://44.201.60.149:8787\" target=\"_blank\">http://44.201.60.149:8787</a>\n",
       "                </td>\n",
       "                <td style=\"text-align: left;\">\n",
       "                    <strong>Workers:</strong> 1\n",
       "                </td>\n",
       "            </tr>\n",
       "            <tr>\n",
       "                <td style=\"text-align: left;\">\n",
       "                    <strong>Total threads:</strong> 2\n",
       "                </td>\n",
       "                <td style=\"text-align: left;\">\n",
       "                    <strong>Total memory:</strong> 7.67 GiB\n",
       "                </td>\n",
       "            </tr>\n",
       "            \n",
       "        </table>\n",
       "\n",
       "        <details>\n",
       "            <summary style=\"margin-bottom: 20px;\">\n",
       "                <h3 style=\"display: inline;\">Scheduler Info</h3>\n",
       "            </summary>\n",
       "\n",
       "            <div style=\"\">\n",
       "    <div>\n",
       "        <div style=\"width: 24px; height: 24px; background-color: #FFF7E5; border: 3px solid #FF6132; border-radius: 5px; position: absolute;\"> </div>\n",
       "        <div style=\"margin-left: 48px;\">\n",
       "            <h3 style=\"margin-bottom: 0px;\">Scheduler</h3>\n",
       "            <p style=\"color: #9D9D9D; margin-bottom: 0px;\">Scheduler-f4e9f810-cec6-4e49-9d33-78da8f4011b4</p>\n",
       "            <table style=\"width: 100%; text-align: left;\">\n",
       "                <tr>\n",
       "                    <td style=\"text-align: left;\">\n",
       "                        <strong>Comm:</strong> tls://10.4.0.71:8786\n",
       "                    </td>\n",
       "                    <td style=\"text-align: left;\">\n",
       "                        <strong>Workers:</strong> 1\n",
       "                    </td>\n",
       "                </tr>\n",
       "                <tr>\n",
       "                    <td style=\"text-align: left;\">\n",
       "                        <strong>Dashboard:</strong> <a href=\"http://10.4.0.71:8787/status\" target=\"_blank\">http://10.4.0.71:8787/status</a>\n",
       "                    </td>\n",
       "                    <td style=\"text-align: left;\">\n",
       "                        <strong>Total threads:</strong> 2\n",
       "                    </td>\n",
       "                </tr>\n",
       "                <tr>\n",
       "                    <td style=\"text-align: left;\">\n",
       "                        <strong>Started:</strong> Just now\n",
       "                    </td>\n",
       "                    <td style=\"text-align: left;\">\n",
       "                        <strong>Total memory:</strong> 7.67 GiB\n",
       "                    </td>\n",
       "                </tr>\n",
       "            </table>\n",
       "        </div>\n",
       "    </div>\n",
       "\n",
       "    <details style=\"margin-left: 48px;\">\n",
       "        <summary style=\"margin-bottom: 20px;\">\n",
       "            <h3 style=\"display: inline;\">Workers</h3>\n",
       "        </summary>\n",
       "\n",
       "        \n",
       "        <div style=\"margin-bottom: 20px;\">\n",
       "            <div style=\"width: 24px; height: 24px; background-color: #DBF5FF; border: 3px solid #4CC9FF; border-radius: 5px; position: absolute;\"> </div>\n",
       "            <div style=\"margin-left: 48px;\">\n",
       "            <details>\n",
       "                <summary>\n",
       "                    <h4 style=\"margin-bottom: 0px; display: inline;\">Worker: coiled-dask-peterli85-95024-worker-01196e6502</h4>\n",
       "                </summary>\n",
       "                <table style=\"width: 100%; text-align: left;\">\n",
       "                    <tr>\n",
       "                        <td style=\"text-align: left;\">\n",
       "                            <strong>Comm: </strong> tls://10.4.15.91:40593\n",
       "                        </td>\n",
       "                        <td style=\"text-align: left;\">\n",
       "                            <strong>Total threads: </strong> 2\n",
       "                        </td>\n",
       "                    </tr>\n",
       "                    <tr>\n",
       "                        <td style=\"text-align: left;\">\n",
       "                            <strong>Dashboard: </strong> <a href=\"http://10.4.15.91:46509/status\" target=\"_blank\">http://10.4.15.91:46509/status</a>\n",
       "                        </td>\n",
       "                        <td style=\"text-align: left;\">\n",
       "                            <strong>Memory: </strong> 7.67 GiB\n",
       "                        </td>\n",
       "                    </tr>\n",
       "                    <tr>\n",
       "                        <td style=\"text-align: left;\">\n",
       "                            <strong>Nanny: </strong> tls://10.4.15.91:38211\n",
       "                        </td>\n",
       "                        <td style=\"text-align: left;\"></td>\n",
       "                    </tr>\n",
       "                    <tr>\n",
       "                        <td colspan=\"2\" style=\"text-align: left;\">\n",
       "                            <strong>Local directory: </strong> /dask-worker-space/worker-8zi9wcvo\n",
       "                        </td>\n",
       "                    </tr>\n",
       "\n",
       "                    \n",
       "\n",
       "                    \n",
       "\n",
       "                </table>\n",
       "            </details>\n",
       "            </div>\n",
       "        </div>\n",
       "        \n",
       "\n",
       "    </details>\n",
       "</div>\n",
       "\n",
       "        </details>\n",
       "    </div>\n",
       "</div>\n",
       "            </details>\n",
       "        \n",
       "\n",
       "    </div>\n",
       "</div>"
      ],
      "text/plain": [
       "<Client: 'tls://10.4.0.71:8786' processes=1 threads=2, memory=7.67 GiB>"
      ]
     },
     "execution_count": 8,
     "metadata": {},
     "output_type": "execute_result"
    }
   ],
   "source": [
    "# Instantiate a Client and print dashboard link\n",
    "client = Client(cluster)\n",
    "client\n"
   ]
  },
  {
   "cell_type": "code",
   "execution_count": 9,
   "id": "843e9ed5",
   "metadata": {},
   "outputs": [
    {
     "data": {
      "text/plain": [
       "{'scheduler': {'host': {'python': '3.9.7.final.0',\n",
       "   'python-bits': 64,\n",
       "   'OS': 'Linux',\n",
       "   'OS-release': '5.11.0-1006-aws',\n",
       "   'machine': 'x86_64',\n",
       "   'processor': '',\n",
       "   'byteorder': 'little',\n",
       "   'LC_ALL': 'C.UTF-8',\n",
       "   'LANG': 'C.UTF-8'},\n",
       "  'packages': {'python': '3.9.7.final.0',\n",
       "   'dask': '2021.11.2',\n",
       "   'distributed': '2021.11.2',\n",
       "   'msgpack': '1.0.3',\n",
       "   'cloudpickle': '2.0.0',\n",
       "   'tornado': '6.1',\n",
       "   'toolz': '0.11.2',\n",
       "   'numpy': '1.22.0',\n",
       "   'pandas': '1.3.5',\n",
       "   'lz4': None,\n",
       "   'blosc': None}},\n",
       " 'workers': {'tls://10.4.15.91:40593': {'host': {'python': '3.9.7.final.0',\n",
       "    'python-bits': 64,\n",
       "    'OS': 'Linux',\n",
       "    'OS-release': '5.11.0-1006-aws',\n",
       "    'machine': 'x86_64',\n",
       "    'processor': '',\n",
       "    'byteorder': 'little',\n",
       "    'LC_ALL': 'C.UTF-8',\n",
       "    'LANG': 'C.UTF-8'},\n",
       "   'packages': {'python': '3.9.7.final.0',\n",
       "    'dask': '2021.11.2',\n",
       "    'distributed': '2021.11.2',\n",
       "    'msgpack': '1.0.3',\n",
       "    'cloudpickle': '2.0.0',\n",
       "    'tornado': '6.1',\n",
       "    'toolz': '0.11.2',\n",
       "    'numpy': '1.22.0',\n",
       "    'pandas': '1.3.5',\n",
       "    'lz4': None,\n",
       "    'blosc': None}}},\n",
       " 'client': {'host': {'python': '3.9.7.final.0',\n",
       "   'python-bits': 64,\n",
       "   'OS': 'Windows',\n",
       "   'OS-release': '10',\n",
       "   'machine': 'AMD64',\n",
       "   'processor': 'Intel64 Family 6 Model 165 Stepping 5, GenuineIntel',\n",
       "   'byteorder': 'little',\n",
       "   'LC_ALL': 'None',\n",
       "   'LANG': 'None'},\n",
       "  'packages': {'python': '3.9.7.final.0',\n",
       "   'dask': '2021.11.2',\n",
       "   'distributed': '2021.11.2',\n",
       "   'msgpack': '1.0.3',\n",
       "   'cloudpickle': '2.0.0',\n",
       "   'tornado': '6.1',\n",
       "   'toolz': '0.11.2',\n",
       "   'numpy': '1.22.0',\n",
       "   'pandas': '1.3.5',\n",
       "   'lz4': None,\n",
       "   'blosc': None}}}"
      ]
     },
     "execution_count": 9,
     "metadata": {},
     "output_type": "execute_result"
    }
   ],
   "source": [
    "#Check if module versions are identical\n",
    "client.get_versions(check=True)\n"
   ]
  },
  {
   "cell_type": "code",
   "execution_count": 10,
   "id": "1bb84f9d",
   "metadata": {},
   "outputs": [],
   "source": [
    "# Access AWS environment variables\n",
    "from dotenv import load_dotenv\n",
    "import os\n",
    "\n",
    "load_dotenv()\n",
    "\n",
    "key  = 'ACCESS_KEY'\n",
    "ACCESS_KEY = os.getenv(key)\n",
    "\n",
    "key  = 'SECRET_KEY'\n",
    "SECRET_KEY = os.getenv(key)\n"
   ]
  },
  {
   "cell_type": "code",
   "execution_count": 11,
   "id": "b1b61bd6",
   "metadata": {},
   "outputs": [
    {
     "data": {
      "text/plain": [
       "['numerai-data/numerai_tournament_data_int8.csv',\n",
       " 'numerai-data/numerai_training_data_int8.csv',\n",
       " 'numerai-data/numerai_training_data_int8.parquet']"
      ]
     },
     "execution_count": 11,
     "metadata": {},
     "output_type": "execute_result"
    }
   ],
   "source": [
    "import s3fs\n",
    "\n",
    "# Load S3 Bucket with AWS Credentials\n",
    "fs = s3fs.S3FileSystem(key=ACCESS_KEY, secret=SECRET_KEY)\n",
    "fs.ls('s3://numerai-data')\n"
   ]
  },
  {
   "cell_type": "code",
   "execution_count": 12,
   "id": "ba06fdf8",
   "metadata": {},
   "outputs": [],
   "source": [
    "import dask.dataframe as dd\n",
    "\n",
    "df = dd.read_csv(\n",
    "    \"s3://numerai-data/numerai_training_data_int8.csv\",\n",
    "    storage_options = {'key': ACCESS_KEY, 'secret': SECRET_KEY})\n",
    "   "
   ]
  },
  {
   "cell_type": "code",
   "execution_count": 13,
   "id": "47873d3f",
   "metadata": {},
   "outputs": [
    {
     "data": {
      "text/html": [
       "<div>\n",
       "<style scoped>\n",
       "    .dataframe tbody tr th:only-of-type {\n",
       "        vertical-align: middle;\n",
       "    }\n",
       "\n",
       "    .dataframe tbody tr th {\n",
       "        vertical-align: top;\n",
       "    }\n",
       "\n",
       "    .dataframe thead th {\n",
       "        text-align: right;\n",
       "    }\n",
       "</style>\n",
       "<table border=\"1\" class=\"dataframe\">\n",
       "  <thead>\n",
       "    <tr style=\"text-align: right;\">\n",
       "      <th></th>\n",
       "      <th>id</th>\n",
       "      <th>era</th>\n",
       "      <th>data_type</th>\n",
       "      <th>feature_dichasial_hammier_spawner</th>\n",
       "      <th>feature_rheumy_epistemic_prancer</th>\n",
       "      <th>feature_pert_performative_hormuz</th>\n",
       "      <th>feature_hillier_unpitied_theobromine</th>\n",
       "      <th>feature_perigean_bewitching_thruster</th>\n",
       "      <th>feature_renegade_undomestic_milord</th>\n",
       "      <th>feature_koranic_rude_corf</th>\n",
       "      <th>...</th>\n",
       "      <th>target_paul_20</th>\n",
       "      <th>target_paul_60</th>\n",
       "      <th>target_george_20</th>\n",
       "      <th>target_george_60</th>\n",
       "      <th>target_william_20</th>\n",
       "      <th>target_william_60</th>\n",
       "      <th>target_arthur_20</th>\n",
       "      <th>target_arthur_60</th>\n",
       "      <th>target_thomas_20</th>\n",
       "      <th>target_thomas_60</th>\n",
       "    </tr>\n",
       "  </thead>\n",
       "  <tbody>\n",
       "    <tr>\n",
       "      <th>0</th>\n",
       "      <td>n003bba8a98662e4</td>\n",
       "      <td>1</td>\n",
       "      <td>train</td>\n",
       "      <td>4</td>\n",
       "      <td>2</td>\n",
       "      <td>4</td>\n",
       "      <td>4</td>\n",
       "      <td>0</td>\n",
       "      <td>0</td>\n",
       "      <td>4</td>\n",
       "      <td>...</td>\n",
       "      <td>0.25</td>\n",
       "      <td>0.25</td>\n",
       "      <td>0.25</td>\n",
       "      <td>0.00</td>\n",
       "      <td>0.166667</td>\n",
       "      <td>0.000000</td>\n",
       "      <td>0.166667</td>\n",
       "      <td>0.000000</td>\n",
       "      <td>0.166667</td>\n",
       "      <td>0.000000</td>\n",
       "    </tr>\n",
       "    <tr>\n",
       "      <th>1</th>\n",
       "      <td>n003bee128c2fcfc</td>\n",
       "      <td>1</td>\n",
       "      <td>train</td>\n",
       "      <td>2</td>\n",
       "      <td>4</td>\n",
       "      <td>1</td>\n",
       "      <td>3</td>\n",
       "      <td>0</td>\n",
       "      <td>3</td>\n",
       "      <td>2</td>\n",
       "      <td>...</td>\n",
       "      <td>1.00</td>\n",
       "      <td>1.00</td>\n",
       "      <td>1.00</td>\n",
       "      <td>1.00</td>\n",
       "      <td>0.833333</td>\n",
       "      <td>0.666667</td>\n",
       "      <td>0.833333</td>\n",
       "      <td>0.666667</td>\n",
       "      <td>0.833333</td>\n",
       "      <td>0.666667</td>\n",
       "    </tr>\n",
       "    <tr>\n",
       "      <th>2</th>\n",
       "      <td>n0048ac83aff7194</td>\n",
       "      <td>1</td>\n",
       "      <td>train</td>\n",
       "      <td>2</td>\n",
       "      <td>1</td>\n",
       "      <td>3</td>\n",
       "      <td>0</td>\n",
       "      <td>3</td>\n",
       "      <td>0</td>\n",
       "      <td>3</td>\n",
       "      <td>...</td>\n",
       "      <td>0.50</td>\n",
       "      <td>0.25</td>\n",
       "      <td>0.25</td>\n",
       "      <td>0.25</td>\n",
       "      <td>0.500000</td>\n",
       "      <td>0.333333</td>\n",
       "      <td>0.500000</td>\n",
       "      <td>0.333333</td>\n",
       "      <td>0.500000</td>\n",
       "      <td>0.333333</td>\n",
       "    </tr>\n",
       "    <tr>\n",
       "      <th>3</th>\n",
       "      <td>n00691bec80d3e02</td>\n",
       "      <td>1</td>\n",
       "      <td>train</td>\n",
       "      <td>4</td>\n",
       "      <td>2</td>\n",
       "      <td>2</td>\n",
       "      <td>3</td>\n",
       "      <td>0</td>\n",
       "      <td>4</td>\n",
       "      <td>1</td>\n",
       "      <td>...</td>\n",
       "      <td>0.50</td>\n",
       "      <td>0.50</td>\n",
       "      <td>0.50</td>\n",
       "      <td>0.50</td>\n",
       "      <td>0.666667</td>\n",
       "      <td>0.500000</td>\n",
       "      <td>0.500000</td>\n",
       "      <td>0.500000</td>\n",
       "      <td>0.666667</td>\n",
       "      <td>0.500000</td>\n",
       "    </tr>\n",
       "    <tr>\n",
       "      <th>4</th>\n",
       "      <td>n00b8720a2fdc4f2</td>\n",
       "      <td>1</td>\n",
       "      <td>train</td>\n",
       "      <td>4</td>\n",
       "      <td>3</td>\n",
       "      <td>4</td>\n",
       "      <td>4</td>\n",
       "      <td>0</td>\n",
       "      <td>0</td>\n",
       "      <td>4</td>\n",
       "      <td>...</td>\n",
       "      <td>0.50</td>\n",
       "      <td>0.50</td>\n",
       "      <td>0.50</td>\n",
       "      <td>0.50</td>\n",
       "      <td>0.666667</td>\n",
       "      <td>0.500000</td>\n",
       "      <td>0.500000</td>\n",
       "      <td>0.500000</td>\n",
       "      <td>0.666667</td>\n",
       "      <td>0.500000</td>\n",
       "    </tr>\n",
       "  </tbody>\n",
       "</table>\n",
       "<p>5 rows × 1074 columns</p>\n",
       "</div>"
      ],
      "text/plain": [
       "                 id  era data_type  feature_dichasial_hammier_spawner  \\\n",
       "0  n003bba8a98662e4    1     train                                  4   \n",
       "1  n003bee128c2fcfc    1     train                                  2   \n",
       "2  n0048ac83aff7194    1     train                                  2   \n",
       "3  n00691bec80d3e02    1     train                                  4   \n",
       "4  n00b8720a2fdc4f2    1     train                                  4   \n",
       "\n",
       "   feature_rheumy_epistemic_prancer  feature_pert_performative_hormuz  \\\n",
       "0                                 2                                 4   \n",
       "1                                 4                                 1   \n",
       "2                                 1                                 3   \n",
       "3                                 2                                 2   \n",
       "4                                 3                                 4   \n",
       "\n",
       "   feature_hillier_unpitied_theobromine  feature_perigean_bewitching_thruster  \\\n",
       "0                                     4                                     0   \n",
       "1                                     3                                     0   \n",
       "2                                     0                                     3   \n",
       "3                                     3                                     0   \n",
       "4                                     4                                     0   \n",
       "\n",
       "   feature_renegade_undomestic_milord  feature_koranic_rude_corf  ...  \\\n",
       "0                                   0                          4  ...   \n",
       "1                                   3                          2  ...   \n",
       "2                                   0                          3  ...   \n",
       "3                                   4                          1  ...   \n",
       "4                                   0                          4  ...   \n",
       "\n",
       "   target_paul_20  target_paul_60  target_george_20  target_george_60  \\\n",
       "0            0.25            0.25              0.25              0.00   \n",
       "1            1.00            1.00              1.00              1.00   \n",
       "2            0.50            0.25              0.25              0.25   \n",
       "3            0.50            0.50              0.50              0.50   \n",
       "4            0.50            0.50              0.50              0.50   \n",
       "\n",
       "   target_william_20  target_william_60  target_arthur_20  target_arthur_60  \\\n",
       "0           0.166667           0.000000          0.166667          0.000000   \n",
       "1           0.833333           0.666667          0.833333          0.666667   \n",
       "2           0.500000           0.333333          0.500000          0.333333   \n",
       "3           0.666667           0.500000          0.500000          0.500000   \n",
       "4           0.666667           0.500000          0.500000          0.500000   \n",
       "\n",
       "   target_thomas_20  target_thomas_60  \n",
       "0          0.166667          0.000000  \n",
       "1          0.833333          0.666667  \n",
       "2          0.500000          0.333333  \n",
       "3          0.666667          0.500000  \n",
       "4          0.666667          0.500000  \n",
       "\n",
       "[5 rows x 1074 columns]"
      ]
     },
     "execution_count": 13,
     "metadata": {},
     "output_type": "execute_result"
    }
   ],
   "source": [
    "df.head()\n"
   ]
  },
  {
   "cell_type": "code",
   "execution_count": 14,
   "id": "15f3fd4c",
   "metadata": {
    "scrolled": true
   },
   "outputs": [],
   "source": [
    "features = [c for c in df if c.startswith(\"feature\")]\n",
    "features_erano = [c for c in df if c.startswith(\"feature\")] + [\"erano\"]\n",
    "\n",
    "targets = [c for c in df if c.startswith(\"target\")]\n",
    "\n",
    "df[\"erano\"] = df.era.astype(int)\n",
    "eras = df.erano\n"
   ]
  },
  {
   "cell_type": "code",
   "execution_count": 15,
   "id": "cd17ef4a",
   "metadata": {},
   "outputs": [],
   "source": [
    "import numpy as np\n",
    "filt = np.arange(1, 304, 4)\n"
   ]
  },
  {
   "cell_type": "code",
   "execution_count": 16,
   "id": "06f1b76e",
   "metadata": {},
   "outputs": [],
   "source": [
    "#Sample the data\n",
    "tdf = df.loc[df.erano.isin(filt)]\n"
   ]
  },
  {
   "cell_type": "code",
   "execution_count": 17,
   "id": "17ce6d00",
   "metadata": {},
   "outputs": [],
   "source": [
    "#Separate the feature data from target data\n",
    "X, y = tdf[features_erano], tdf[\"target\"]\n",
    "\n",
    "y = y.to_frame()\n",
    "\n",
    "eras = X.erano\n"
   ]
  },
  {
   "cell_type": "code",
   "execution_count": 18,
   "id": "11091921",
   "metadata": {},
   "outputs": [],
   "source": [
    "#Convert to Dask Array and persist data to workers\n",
    "X_arr, y_arr = dask.persist(X.to_dask_array(lengths=True), y.to_dask_array(lengths=True))\n"
   ]
  },
  {
   "cell_type": "code",
   "execution_count": 19,
   "id": "ecea9344",
   "metadata": {},
   "outputs": [],
   "source": [
    "from sklearn.model_selection._split import _BaseKFold, indexable, _num_samples\n",
    "from sklearn import model_selection, metrics \n",
    "from scipy.stats import spearmanr \n",
    "\n",
    "class TimeSeriesSplitGroups(_BaseKFold):\n",
    "    def __init__(self, n_splits=5):\n",
    "        super().__init__(n_splits, shuffle=False, random_state=None)\n",
    "\n",
    "    def split(self, X, y=None, groups=None):\n",
    "        X, y, groups = indexable(X, y, groups)\n",
    "        n_samples = _num_samples(X)\n",
    "        n_splits = self.n_splits\n",
    "        n_folds = n_splits + 1\n",
    "        group_list = np.unique(groups)\n",
    "        n_groups = len(group_list)\n",
    "        if n_folds > n_groups:\n",
    "            raise ValueError(\n",
    "                (\"Cannot have number of folds ={0} greater\"\n",
    "                 \" than the number of samples: {1}.\").format(n_folds,\n",
    "                                                             n_groups))\n",
    "        indices = np.arange(n_samples)\n",
    "        test_size = (n_groups // n_folds)\n",
    "        test_starts = range(test_size + n_groups % n_folds,\n",
    "                            n_groups, test_size)\n",
    "        #test_starts = list(test_starts)[::-1]\n",
    "        for test_start in test_starts:\n",
    "            \n",
    "            yield (indices[groups.isin(group_list[:test_start])],\n",
    "                   indices[groups.isin(group_list[test_start:test_start + test_size])])\n",
    "\n",
    "def spearman(y_true, y_pred): \n",
    "    return spearmanr(y_pred, y_true).correlation \n"
   ]
  },
  {
   "cell_type": "markdown",
   "id": "b1a35faa",
   "metadata": {},
   "source": [
    "# The Meta(verse?)\n",
    "\n",
    "- Gradient Boosting Decision Trees (GBDT) are a great starting point, and overall very well rounded algorithm\n",
    "- Several popular implementations of GBDT (Light GBM vs XGBoost vs. CatBoost)\n",
    "- We will be using LGBM for this series as it is very memory efficient\n",
    "    \n",
    "<img src=\"images/EZ_LGBM.jpg\" width=500/>"
   ]
  },
  {
   "cell_type": "markdown",
   "id": "70e8e968",
   "metadata": {},
   "source": [
    "<img src=\"images/SkleanJoblibDaskflow.png\"\n",
    "     width=\"50%\"\n",
    "     alt=\"Dask logo\\\"/>"
   ]
  },
  {
   "cell_type": "code",
   "execution_count": 20,
   "id": "83edb34e",
   "metadata": {},
   "outputs": [
    {
     "name": "stderr",
     "output_type": "stream",
     "text": [
      "C:\\Users\\peter\\Anaconda3\\envs\\nmr_slim\\lib\\site-packages\\lightgbm\\dask.py:525: UserWarning: Parameter n_jobs will be ignored.\n",
      "  _log_warning(f\"Parameter {param_alias} will be ignored.\")\n"
     ]
    },
    {
     "name": "stdout",
     "output_type": "stream",
     "text": [
      "Finding random open ports for workers\n"
     ]
    },
    {
     "name": "stderr",
     "output_type": "stream",
     "text": [
      "C:\\Users\\peter\\Anaconda3\\envs\\nmr_slim\\lib\\site-packages\\lightgbm\\dask.py:525: UserWarning: Parameter n_jobs will be ignored.\n",
      "  _log_warning(f\"Parameter {param_alias} will be ignored.\")\n"
     ]
    },
    {
     "name": "stdout",
     "output_type": "stream",
     "text": [
      "Finding random open ports for workers\n"
     ]
    },
    {
     "name": "stderr",
     "output_type": "stream",
     "text": [
      "C:\\Users\\peter\\Anaconda3\\envs\\nmr_slim\\lib\\site-packages\\lightgbm\\dask.py:525: UserWarning: Parameter n_jobs will be ignored.\n",
      "  _log_warning(f\"Parameter {param_alias} will be ignored.\")\n"
     ]
    },
    {
     "name": "stdout",
     "output_type": "stream",
     "text": [
      "Finding random open ports for workers\n"
     ]
    },
    {
     "name": "stderr",
     "output_type": "stream",
     "text": [
      "C:\\Users\\peter\\Anaconda3\\envs\\nmr_slim\\lib\\site-packages\\lightgbm\\dask.py:525: UserWarning: Parameter n_jobs will be ignored.\n",
      "  _log_warning(f\"Parameter {param_alias} will be ignored.\")\n"
     ]
    },
    {
     "name": "stdout",
     "output_type": "stream",
     "text": [
      "Finding random open ports for workers\n"
     ]
    },
    {
     "name": "stderr",
     "output_type": "stream",
     "text": [
      "C:\\Users\\peter\\Anaconda3\\envs\\nmr_slim\\lib\\site-packages\\lightgbm\\dask.py:525: UserWarning: Parameter n_jobs will be ignored.\n",
      "  _log_warning(f\"Parameter {param_alias} will be ignored.\")\n"
     ]
    },
    {
     "name": "stdout",
     "output_type": "stream",
     "text": [
      "Finding random open ports for workers\n",
      "[0.04955291104160314, 0.04798588858105381, 0.04907550196020812, 0.040708590229307486, 0.03256479767226823]\n",
      "0.04397753789688815\n"
     ]
    }
   ],
   "source": [
    "import lightgbm as lgb\n",
    "import joblib\n",
    "\n",
    "# Create Joblib context with Dask backend to evaluate our models performance - quickly!\n",
    "\n",
    "with joblib.parallel_backend('dask'):\n",
    "    \n",
    "    fold_scores = []\n",
    "    \n",
    "    cvGen=TimeSeriesSplitGroups(n_splits=5) # purged cv\n",
    "    \n",
    "    for i,(train,test) in enumerate(cvGen.split(X=X_arr, y=y_arr, groups=eras)):\n",
    "        lgbm_model = lgb.DaskLGBMRegressor()\n",
    "        lgbm_model.fit(X_arr[train], y_arr[train])\n",
    "        \n",
    "        preds = lgbm_model.predict(X_arr[test])\n",
    "        score = spearman(y_arr[test], preds)\n",
    "        fold_scores.append(score)\n",
    "        \n",
    "        \n",
    "    print(fold_scores)\n",
    "\n",
    "    print(np.mean(fold_scores))\n",
    "    "
   ]
  },
  {
   "cell_type": "markdown",
   "id": "991d0430",
   "metadata": {},
   "source": [
    "# Thank You and Good Luck!\n",
    "- Like & Subscribe for more!\n",
    "- [Github](https://github.com/peterling7710/NumeraiStarterPack) with the notebooks for this series\n",
    "- Find my socials [here](https://linktr.ee/peterling) for more numer.ai related content"
   ]
  },
  {
   "cell_type": "markdown",
   "id": "78dd49a6",
   "metadata": {},
   "source": [
    "<img src=\"images/TAF.jpg\"/>"
   ]
  },
  {
   "cell_type": "code",
   "execution_count": 21,
   "id": "f158767f",
   "metadata": {},
   "outputs": [],
   "source": [
    "client.close()"
   ]
  },
  {
   "cell_type": "code",
   "execution_count": null,
   "id": "41eef997",
   "metadata": {},
   "outputs": [],
   "source": []
  }
 ],
 "metadata": {
  "celltoolbar": "Slideshow",
  "kernelspec": {
   "display_name": "Python 3 (ipykernel)",
   "language": "python",
   "name": "python3"
  },
  "language_info": {
   "codemirror_mode": {
    "name": "ipython",
    "version": 3
   },
   "file_extension": ".py",
   "mimetype": "text/x-python",
   "name": "python",
   "nbconvert_exporter": "python",
   "pygments_lexer": "ipython3",
   "version": "3.9.7"
  },
  "varInspector": {
   "cols": {
    "lenName": 16,
    "lenType": 16,
    "lenVar": 40
   },
   "kernels_config": {
    "python": {
     "delete_cmd_postfix": "",
     "delete_cmd_prefix": "del ",
     "library": "var_list.py",
     "varRefreshCmd": "print(var_dic_list())"
    },
    "r": {
     "delete_cmd_postfix": ") ",
     "delete_cmd_prefix": "rm(",
     "library": "var_list.r",
     "varRefreshCmd": "cat(var_dic_list()) "
    }
   },
   "types_to_exclude": [
    "module",
    "function",
    "builtin_function_or_method",
    "instance",
    "_Feature"
   ],
   "window_display": false
  }
 },
 "nbformat": 4,
 "nbformat_minor": 5
}
