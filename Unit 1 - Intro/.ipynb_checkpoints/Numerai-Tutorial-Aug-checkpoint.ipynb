{
 "cells": [
  {
   "cell_type": "code",
   "execution_count": 1,
   "metadata": {
    "slideshow": {
     "slide_type": "skip"
    }
   },
   "outputs": [],
   "source": [
    "from IPython.display import display\n",
    "import numpy as np\n",
    "import base64"
   ]
  },
  {
   "cell_type": "markdown",
   "metadata": {
    "cell_style": "center",
    "slideshow": {
     "slide_type": "slide"
    }
   },
   "source": [
    "# Welcome\n",
    "\n",
    "<img src=\"images/numerai_background.png\"/>"
   ]
  },
  {
   "cell_type": "markdown",
   "metadata": {
    "cell_style": "split",
    "slideshow": {
     "slide_type": "slide"
    }
   },
   "source": [
    "# Disclaimers\n",
    "###### Don't sue me, thanks!\n",
    "- This is not financial advise\n",
    "    \n",
    "    \n",
    "- I am not affiliated with Numerai\n",
    "\n",
    "    \n",
    "- TLDR: **I like the token**\n",
    "\n",
    "\n",
    "\n"
   ]
  },
  {
   "cell_type": "markdown",
   "metadata": {
    "cell_style": "split",
    "slideshow": {
     "slide_type": "-"
    }
   },
   "source": [
    "<img src=\"https://i.imgflip.com/50jlus.jpg\" title=\"made at imgflip.com\"/>"
   ]
  },
  {
   "cell_type": "markdown",
   "metadata": {
    "cell_style": "split",
    "slideshow": {
     "slide_type": "slide"
    }
   },
   "source": [
    "# What is Numerai?\n",
    "- Goal to create an AI-powered, crowd-sourced hedge fund\n",
    "- Two tournaments currently being held on Numerai:\n",
    "    - Numerai Tournament \n",
    "    - Numerai Signals\n",
    "- Both built on their cryptocurrency, Numeraire (NMR)\n",
    "\n",
    "\n",
    "     "
   ]
  },
  {
   "cell_type": "markdown",
   "metadata": {
    "cell_style": "split"
   },
   "source": [
    "<img src=\"images/leaderboard.png\"/>"
   ]
  },
  {
   "cell_type": "markdown",
   "metadata": {
    "slideshow": {
     "slide_type": "slide"
    }
   },
   "source": [
    "# Who is Numerai for?\n",
    "##### Good question\n",
    "- If you are here to #learntocode, build a portfolio to land a new job, or find your new sidehustle\n",
    "    - Numer.ai let's you do all **3** at once!!!\n",
    "   \n",
    "- If you have an interest in algorithmic trading or finance\n",
    "    - Numer.ai let's you do all **4** at once!!!\n",
    "  \n",
    "- What's the catch?\n",
    "    - Self proclaimed \"hardest data science tournament on the planet.\"\n"
   ]
  },
  {
   "cell_type": "markdown",
   "metadata": {
    "cell_style": "center",
    "slideshow": {
     "slide_type": "slide"
    }
   },
   "source": [
    "# Numerai Tournament\n",
    "- From Numer.ai:\n",
    "> \"Numerai [tournament] is a data science tournament where you build machine learning models on obfuscated financial data to predict the stock market\""
   ]
  },
  {
   "cell_type": "markdown",
   "metadata": {
    "cell_style": "center",
    "slideshow": {
     "slide_type": "slide"
    }
   },
   "source": [
    "# Numerai Tournament\n",
    "\n",
    "- Let's translate that:\n",
    "    1. Numerai sends you anonymous quant fund quality data for free (Weekly)\n",
    "    2. You use the data to train a ML model (using Python, R , Excel?, etc.)\n",
    "    3. You make predictions about equities and submit them to Numerai\n",
    "    4. Numerai assesses your submissions and uses them to make trades<b>*</b> if the're good \n",
    "        1. If you staked NMR and had **good*** predictions, you are rewarded NMR! 🚀✋💎✋ \n",
    "        2. If your predictions were **bad**, your NMR is burned! 🙃🥴\n",
    "    "
   ]
  },
  {
   "cell_type": "markdown",
   "metadata": {
    "cell_style": "split",
    "slideshow": {
     "slide_type": "slide"
    }
   },
   "source": [
    "# Why use Numerai?\n",
    "_For trading_ <br/>\n",
    "\n",
    "- As a lone quant, there are many barriers to entry when creating and executing a profitable strategy. To note a few:\n",
    "    - Latency\n",
    "    - Trading fees\n",
    "    - Slippage\n",
    "    \n",
    "- Your strategy is kept private"
   ]
  },
  {
   "cell_type": "code",
   "execution_count": null,
   "metadata": {
    "cell_style": "split",
    "slideshow": {
     "slide_type": "skip"
    }
   },
   "outputs": [],
   "source": []
  },
  {
   "cell_type": "markdown",
   "metadata": {
    "cell_style": "split",
    "slideshow": {
     "slide_type": "-"
    }
   },
   "source": [
    "\n",
    "<img src=\"images/QuantProcessFlow.png\"/>"
   ]
  },
  {
   "cell_type": "markdown",
   "metadata": {
    "cell_style": "split",
    "slideshow": {
     "slide_type": "slide"
    }
   },
   "source": [
    "# Why use Numerai?\n",
    "- _For career_\n",
    "    - Having a unique portfolio piece on your resume is a great way to show off your skills\n",
    "    - Apply your skills to a **live** project\n",
    "    - There are currently only ~2500 participating in the Numerai tournament right now (vs. 18K for Kaggle titanic competition)\n",
    "    - Buzz words have a multiplicative effect, use them to confuse recruiters (AI powered crypto hedge fund!)"
   ]
  },
  {
   "cell_type": "markdown",
   "metadata": {
    "cell_style": "split",
    "slideshow": {
     "slide_type": "-"
    }
   },
   "source": [
    "<br/>\n",
    "<br/>\n",
    "<br/>"
   ]
  },
  {
   "cell_type": "markdown",
   "metadata": {
    "cell_style": "split",
    "slideshow": {
     "slide_type": "-"
    }
   },
   "source": [
    "<img src=\"images/drake.png\"/>"
   ]
  },
  {
   "cell_type": "markdown",
   "metadata": {
    "cell_style": "split",
    "slideshow": {
     "slide_type": "slide"
    }
   },
   "source": [
    "# Roadmap\n",
    "\n",
    "- Extensive [Master Plan](https://medium.com/numerai/numerais-master-plan-1a00f133dba9) and open source the code for their core components \n",
    "- Solid roadmap (Erasure Bay) with a new feature (Numerai Signals) released < 6 mo. ago"
   ]
  },
  {
   "cell_type": "markdown",
   "metadata": {
    "cell_style": "split",
    "slideshow": {
     "slide_type": "fragment"
    }
   },
   "source": [
    "<img src=\"images/erasurelogo-2x.jpg\"/>"
   ]
  },
  {
   "cell_type": "markdown",
   "metadata": {
    "cell_style": "split",
    "slideshow": {
     "slide_type": "fragment"
    }
   },
   "source": [
    "<img src=\"images/signalslogo-2x.jpg\"/>"
   ]
  },
  {
   "cell_type": "markdown",
   "metadata": {
    "cell_style": "split",
    "slideshow": {
     "slide_type": "slide"
    }
   },
   "source": [
    "# 3. Resources\n",
    "\n",
    "- Numerai has tons of resources online to help new users\n",
    "    1. Rocket Chat (<a href=\"https://community.numer.ai/home\">link</a>)\n",
    "    2. Numerai Docs (<a href=\"https://docs.numer.ai/tournament/learn\">link</a>)\n",
    "    3. Numerai Forums (<a href=\"https://forum.numer.ai/\">link</a>)\n",
    "    4. Office Hours with Arbitrage (<a href=\"https://www.youtube.com/channel/UCQt3RVSKsDpFgYIm1A-nWbA\">link</a>)\n",
    "    5. Marcos Lopez de Prado - Advances in Financial Machine Learning - Wiley 2018(<a href=\"https://www.amazon.com/Advances-Financial-Machine-Learning-Marcos/dp/1119482089\">link</a>)"
   ]
  },
  {
   "cell_type": "markdown",
   "metadata": {
    "cell_style": "split",
    "slideshow": {
     "slide_type": "-"
    }
   },
   "source": [
    "</br>\n",
    "</br>\n",
    "<img src=\"images/officehours.png\"/>"
   ]
  },
  {
   "cell_type": "code",
   "execution_count": null,
   "metadata": {
    "slideshow": {
     "slide_type": "skip"
    }
   },
   "outputs": [],
   "source": []
  },
  {
   "cell_type": "markdown",
   "metadata": {
    "cell_style": "split",
    "slideshow": {
     "slide_type": "slide"
    }
   },
   "source": [
    "# 4. Tips & Tricks\n",
    "\n",
    "- Make stuff\n",
    "    - Trying out new strategies is free!\n",
    "- Leverage open source as much as possible\n",
    "- Don't be shy!"
   ]
  },
  {
   "cell_type": "markdown",
   "metadata": {
    "cell_style": "split",
    "slideshow": {
     "slide_type": "-"
    }
   },
   "source": [
    "<img src=\"images/PG.png\"/>"
   ]
  },
  {
   "cell_type": "markdown",
   "metadata": {
    "cell_style": "split",
    "slideshow": {
     "slide_type": "slide"
    }
   },
   "source": [
    "# 5. Q & A\n"
   ]
  },
  {
   "cell_type": "code",
   "execution_count": null,
   "metadata": {},
   "outputs": [],
   "source": []
  }
 ],
 "metadata": {
  "celltoolbar": "Slideshow",
  "kernelspec": {
   "display_name": "Python 3",
   "language": "python",
   "name": "python3"
  },
  "language_info": {
   "codemirror_mode": {
    "name": "ipython",
    "version": 3
   },
   "file_extension": ".py",
   "mimetype": "text/x-python",
   "name": "python",
   "nbconvert_exporter": "python",
   "pygments_lexer": "ipython3",
   "version": "3.8.8"
  },
  "varInspector": {
   "cols": {
    "lenName": 16,
    "lenType": 16,
    "lenVar": 40
   },
   "kernels_config": {
    "python": {
     "delete_cmd_postfix": "",
     "delete_cmd_prefix": "del ",
     "library": "var_list.py",
     "varRefreshCmd": "print(var_dic_list())"
    },
    "r": {
     "delete_cmd_postfix": ") ",
     "delete_cmd_prefix": "rm(",
     "library": "var_list.r",
     "varRefreshCmd": "cat(var_dic_list()) "
    }
   },
   "types_to_exclude": [
    "module",
    "function",
    "builtin_function_or_method",
    "instance",
    "_Feature"
   ],
   "window_display": false
  }
 },
 "nbformat": 4,
 "nbformat_minor": 2
}
