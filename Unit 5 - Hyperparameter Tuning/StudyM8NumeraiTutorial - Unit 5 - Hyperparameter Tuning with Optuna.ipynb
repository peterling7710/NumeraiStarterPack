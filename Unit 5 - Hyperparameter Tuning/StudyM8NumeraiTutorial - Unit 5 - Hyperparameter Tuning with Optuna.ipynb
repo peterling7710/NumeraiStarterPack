{
 "cells": [
  {
   "cell_type": "code",
   "execution_count": null,
   "id": "86125047",
   "metadata": {},
   "outputs": [],
   "source": []
  },
  {
   "cell_type": "markdown",
   "id": "ba352899",
   "metadata": {},
   "source": [
    "# Unit 5 - Hyperparameter Tuning with Optuna\n",
    "In this notebook we will cover:\n",
    "   1. What LGBM parameters to tune\n",
    "   2. ***Very*** brief intro to Hyperparameter Tuning with Optuna \n",
    "   3. Ensembling tuned models!\n",
    "\n",
    "<img width=\"75%\" src=\"images/optuna-logo.png\" />"
   ]
  },
  {
   "cell_type": "markdown",
   "id": "c833fcdb",
   "metadata": {
    "slideshow": {
     "slide_type": "slide"
    }
   },
   "source": [
    "## Hyperparameter Tuning\n",
    "\n",
    "- Optuna is framework agnostic and can be used with LGBM, Keras, PyTorch, etc.\n",
    "- \n",
    "\n",
    "<img src=\"images/param_performance.png\" \n",
    "     width=\"75%\"\n",
    "     alt=\"Dask overview\\\" />\n",
    "  "
   ]
  },
  {
   "cell_type": "markdown",
   "id": "f2990d6d",
   "metadata": {
    "slideshow": {
     "slide_type": "slide"
    }
   },
   "source": [
    "## LGBM Hyperparameters\n",
    "\n",
    "- Optuna is framework agnostic and can be used with LGBM, Keras, PyTorch, etc.\n",
    "\n",
    "<img src=\"images/LGBM_leaves.png\" \n",
    "     width=\"50%\"\n",
    "     alt=\"Dask overview\\\" />\n",
    "  "
   ]
  },
  {
   "cell_type": "markdown",
   "id": "123b508e",
   "metadata": {
    "slideshow": {
     "slide_type": "slide"
    }
   },
   "source": [
    "## Optuna\n",
    "\n",
    "- Optuna is framework agnostic and can be used with LGBM, Keras, PyTorch, etc. \n",
    "\n",
    "<img src=\"images/optuna-search.png\" \n",
    "     width=\"75%\"\n",
    "     alt=\"Dask overview\\\" />\n",
    "  "
   ]
  },
  {
   "cell_type": "code",
   "execution_count": null,
   "id": "8424d749",
   "metadata": {},
   "outputs": [],
   "source": [
    "import optuna\n",
    "\n",
    "def objective(trial):\n",
    "    x = trial.suggest_float('x', -10, 10)\n",
    "    return (x - 2) ** 2\n",
    "\n",
    "study = optuna.create_study()\n",
    "study.optimize(objective, n_trials=100)\n",
    "\n",
    "study.best_params  # E.g. {'x': 2.002108042}"
   ]
  },
  {
   "cell_type": "markdown",
   "id": "5b282dde",
   "metadata": {
    "slideshow": {
     "slide_type": "slide"
    }
   },
   "source": [
    "## Alternatives\n",
    "\n",
    "There are **a lot** of alternatives to the setup used in this video, but ultimately I chose Dask/Coiled as it was the first I could get working\n",
    "\n",
    "Some of the alternative technologies/providers:\n"
   ]
  },
  {
   "cell_type": "code",
   "execution_count": 7,
   "id": "fba3b0ec",
   "metadata": {},
   "outputs": [
    {
     "data": {
      "application/vnd.jupyter.widget-view+json": {
       "model_id": "",
       "version_major": 2,
       "version_minor": 0
      },
      "text/plain": [
       "Output()"
      ]
     },
     "metadata": {},
     "output_type": "display_data"
    },
    {
     "name": "stdout",
     "output_type": "stream",
     "text": [
      "Found software environment build\n",
      "Created fw rule: inbound [8786-8787] [0.0.0.0/0] []\n",
      "Created FW rules: coiled-dask-peterli85-95024-firewall\n",
      "Created fw rule: cluster [0-65535] [None] [coiled-dask-peterli85-95024-firewall -> coiled-dask-peterli85-95024-firewall]\n",
      "Created FW rules: coiled-dask-peterli85-95024-cluster-firewall\n",
      "Created fw rule: cluster [0-65535] [None] [coiled-dask-peterli85-95024-cluster-firewall -> coiled-dask-peterli85-95024-cluster-firewall]\n",
      "Created scheduler VM: coiled-dask-peterli85-95024-scheduler (type: t3.medium, ip: ['44.201.60.149'])\n"
     ]
    },
    {
     "data": {
      "text/html": [
       "<pre style=\"white-space:pre;overflow-x:auto;line-height:normal;font-family:Menlo,'DejaVu Sans Mono',consolas,'Courier New',monospace\"></pre>\n"
      ],
      "text/plain": []
     },
     "metadata": {},
     "output_type": "display_data"
    },
    {
     "name": "stderr",
     "output_type": "stream",
     "text": [
      "distributed.deploy.adaptive - INFO - Adaptive scaling started: minimum=2 maximum=5\n"
     ]
    },
    {
     "data": {
      "text/plain": [
       "<coiled.cluster.CoiledAdaptive at 0x1b90e39a0a0>"
      ]
     },
     "execution_count": 7,
     "metadata": {},
     "output_type": "execute_result"
    }
   ],
   "source": [
    "import coiled\n",
    "import dask\n",
    "from dask.distributed import Client\n",
    "\n",
    "# Spin up a Coiled cluster\n",
    "cluster = coiled.Cluster(software=\"peterling7710/pling_numerai\", \n",
    "                         backend_options={\"spot\": True}\n",
    "                         #worker_memory=\"16 GiB\",\n",
    "                        )\n",
    "\n",
    "cluster.adapt(minimum=2, maximum=5)\n"
   ]
  },
  {
   "cell_type": "code",
   "execution_count": 8,
   "id": "62b1a207",
   "metadata": {},
   "outputs": [
    {
     "data": {
      "text/html": [
       "<div>\n",
       "    <div style=\"width: 24px; height: 24px; background-color: #e1e1e1; border: 3px solid #9D9D9D; border-radius: 5px; position: absolute;\"> </div>\n",
       "    <div style=\"margin-left: 48px;\">\n",
       "        <h3 style=\"margin-bottom: 0px;\">Client</h3>\n",
       "        <p style=\"color: #9D9D9D; margin-bottom: 0px;\">Client-48f00aaf-716e-11ec-a464-ccf9e4fd1f73</p>\n",
       "        <table style=\"width: 100%; text-align: left;\">\n",
       "\n",
       "        <tr>\n",
       "        \n",
       "            <td style=\"text-align: left;\"><strong>Connection method:</strong> Cluster object</td>\n",
       "            <td style=\"text-align: left;\"><strong>Cluster type:</strong> coiled.Cluster</td>\n",
       "        \n",
       "        </tr>\n",
       "\n",
       "        \n",
       "            <tr>\n",
       "                <td style=\"text-align: left;\">\n",
       "                    <strong>Dashboard: </strong> <a href=\"http://44.201.60.149:8787\" target=\"_blank\">http://44.201.60.149:8787</a>\n",
       "                </td>\n",
       "                <td style=\"text-align: left;\"></td>\n",
       "            </tr>\n",
       "        \n",
       "\n",
       "        </table>\n",
       "\n",
       "        \n",
       "            <details>\n",
       "            <summary style=\"margin-bottom: 20px;\"><h3 style=\"display: inline;\">Cluster Info</h3></summary>\n",
       "            <div class=\"jp-RenderedHTMLCommon jp-RenderedHTML jp-mod-trusted jp-OutputArea-output\">\n",
       "    <div style=\"width: 24px; height: 24px; background-color: #e1e1e1; border: 3px solid #9D9D9D; border-radius: 5px; position: absolute;\">\n",
       "    </div>\n",
       "    <div style=\"margin-left: 48px;\">\n",
       "        <h3 style=\"margin-bottom: 0px; margin-top: 0px;\">Cluster</h3>\n",
       "        <p style=\"color: #9D9D9D; margin-bottom: 0px;\">peterling7710-14cfefa5-5</p>\n",
       "        <table style=\"width: 100%; text-align: left;\">\n",
       "            <tr>\n",
       "                <td style=\"text-align: left;\">\n",
       "                    <strong>Dashboard:</strong> <a href=\"http://44.201.60.149:8787\" target=\"_blank\">http://44.201.60.149:8787</a>\n",
       "                </td>\n",
       "                <td style=\"text-align: left;\">\n",
       "                    <strong>Workers:</strong> 1\n",
       "                </td>\n",
       "            </tr>\n",
       "            <tr>\n",
       "                <td style=\"text-align: left;\">\n",
       "                    <strong>Total threads:</strong> 2\n",
       "                </td>\n",
       "                <td style=\"text-align: left;\">\n",
       "                    <strong>Total memory:</strong> 7.67 GiB\n",
       "                </td>\n",
       "            </tr>\n",
       "            \n",
       "        </table>\n",
       "\n",
       "        <details>\n",
       "            <summary style=\"margin-bottom: 20px;\">\n",
       "                <h3 style=\"display: inline;\">Scheduler Info</h3>\n",
       "            </summary>\n",
       "\n",
       "            <div style=\"\">\n",
       "    <div>\n",
       "        <div style=\"width: 24px; height: 24px; background-color: #FFF7E5; border: 3px solid #FF6132; border-radius: 5px; position: absolute;\"> </div>\n",
       "        <div style=\"margin-left: 48px;\">\n",
       "            <h3 style=\"margin-bottom: 0px;\">Scheduler</h3>\n",
       "            <p style=\"color: #9D9D9D; margin-bottom: 0px;\">Scheduler-f4e9f810-cec6-4e49-9d33-78da8f4011b4</p>\n",
       "            <table style=\"width: 100%; text-align: left;\">\n",
       "                <tr>\n",
       "                    <td style=\"text-align: left;\">\n",
       "                        <strong>Comm:</strong> tls://10.4.0.71:8786\n",
       "                    </td>\n",
       "                    <td style=\"text-align: left;\">\n",
       "                        <strong>Workers:</strong> 1\n",
       "                    </td>\n",
       "                </tr>\n",
       "                <tr>\n",
       "                    <td style=\"text-align: left;\">\n",
       "                        <strong>Dashboard:</strong> <a href=\"http://10.4.0.71:8787/status\" target=\"_blank\">http://10.4.0.71:8787/status</a>\n",
       "                    </td>\n",
       "                    <td style=\"text-align: left;\">\n",
       "                        <strong>Total threads:</strong> 2\n",
       "                    </td>\n",
       "                </tr>\n",
       "                <tr>\n",
       "                    <td style=\"text-align: left;\">\n",
       "                        <strong>Started:</strong> Just now\n",
       "                    </td>\n",
       "                    <td style=\"text-align: left;\">\n",
       "                        <strong>Total memory:</strong> 7.67 GiB\n",
       "                    </td>\n",
       "                </tr>\n",
       "            </table>\n",
       "        </div>\n",
       "    </div>\n",
       "\n",
       "    <details style=\"margin-left: 48px;\">\n",
       "        <summary style=\"margin-bottom: 20px;\">\n",
       "            <h3 style=\"display: inline;\">Workers</h3>\n",
       "        </summary>\n",
       "\n",
       "        \n",
       "        <div style=\"margin-bottom: 20px;\">\n",
       "            <div style=\"width: 24px; height: 24px; background-color: #DBF5FF; border: 3px solid #4CC9FF; border-radius: 5px; position: absolute;\"> </div>\n",
       "            <div style=\"margin-left: 48px;\">\n",
       "            <details>\n",
       "                <summary>\n",
       "                    <h4 style=\"margin-bottom: 0px; display: inline;\">Worker: coiled-dask-peterli85-95024-worker-01196e6502</h4>\n",
       "                </summary>\n",
       "                <table style=\"width: 100%; text-align: left;\">\n",
       "                    <tr>\n",
       "                        <td style=\"text-align: left;\">\n",
       "                            <strong>Comm: </strong> tls://10.4.15.91:40593\n",
       "                        </td>\n",
       "                        <td style=\"text-align: left;\">\n",
       "                            <strong>Total threads: </strong> 2\n",
       "                        </td>\n",
       "                    </tr>\n",
       "                    <tr>\n",
       "                        <td style=\"text-align: left;\">\n",
       "                            <strong>Dashboard: </strong> <a href=\"http://10.4.15.91:46509/status\" target=\"_blank\">http://10.4.15.91:46509/status</a>\n",
       "                        </td>\n",
       "                        <td style=\"text-align: left;\">\n",
       "                            <strong>Memory: </strong> 7.67 GiB\n",
       "                        </td>\n",
       "                    </tr>\n",
       "                    <tr>\n",
       "                        <td style=\"text-align: left;\">\n",
       "                            <strong>Nanny: </strong> tls://10.4.15.91:38211\n",
       "                        </td>\n",
       "                        <td style=\"text-align: left;\"></td>\n",
       "                    </tr>\n",
       "                    <tr>\n",
       "                        <td colspan=\"2\" style=\"text-align: left;\">\n",
       "                            <strong>Local directory: </strong> /dask-worker-space/worker-8zi9wcvo\n",
       "                        </td>\n",
       "                    </tr>\n",
       "\n",
       "                    \n",
       "\n",
       "                    \n",
       "\n",
       "                </table>\n",
       "            </details>\n",
       "            </div>\n",
       "        </div>\n",
       "        \n",
       "\n",
       "    </details>\n",
       "</div>\n",
       "\n",
       "        </details>\n",
       "    </div>\n",
       "</div>\n",
       "            </details>\n",
       "        \n",
       "\n",
       "    </div>\n",
       "</div>"
      ],
      "text/plain": [
       "<Client: 'tls://10.4.0.71:8786' processes=1 threads=2, memory=7.67 GiB>"
      ]
     },
     "execution_count": 8,
     "metadata": {},
     "output_type": "execute_result"
    }
   ],
   "source": [
    "# Instantiate a Client and print dashboard link\n",
    "client = Client(cluster)\n",
    "client\n"
   ]
  },
  {
   "cell_type": "code",
   "execution_count": 9,
   "id": "843e9ed5",
   "metadata": {},
   "outputs": [
    {
     "data": {
      "text/plain": [
       "{'scheduler': {'host': {'python': '3.9.7.final.0',\n",
       "   'python-bits': 64,\n",
       "   'OS': 'Linux',\n",
       "   'OS-release': '5.11.0-1006-aws',\n",
       "   'machine': 'x86_64',\n",
       "   'processor': '',\n",
       "   'byteorder': 'little',\n",
       "   'LC_ALL': 'C.UTF-8',\n",
       "   'LANG': 'C.UTF-8'},\n",
       "  'packages': {'python': '3.9.7.final.0',\n",
       "   'dask': '2021.11.2',\n",
       "   'distributed': '2021.11.2',\n",
       "   'msgpack': '1.0.3',\n",
       "   'cloudpickle': '2.0.0',\n",
       "   'tornado': '6.1',\n",
       "   'toolz': '0.11.2',\n",
       "   'numpy': '1.22.0',\n",
       "   'pandas': '1.3.5',\n",
       "   'lz4': None,\n",
       "   'blosc': None}},\n",
       " 'workers': {'tls://10.4.15.91:40593': {'host': {'python': '3.9.7.final.0',\n",
       "    'python-bits': 64,\n",
       "    'OS': 'Linux',\n",
       "    'OS-release': '5.11.0-1006-aws',\n",
       "    'machine': 'x86_64',\n",
       "    'processor': '',\n",
       "    'byteorder': 'little',\n",
       "    'LC_ALL': 'C.UTF-8',\n",
       "    'LANG': 'C.UTF-8'},\n",
       "   'packages': {'python': '3.9.7.final.0',\n",
       "    'dask': '2021.11.2',\n",
       "    'distributed': '2021.11.2',\n",
       "    'msgpack': '1.0.3',\n",
       "    'cloudpickle': '2.0.0',\n",
       "    'tornado': '6.1',\n",
       "    'toolz': '0.11.2',\n",
       "    'numpy': '1.22.0',\n",
       "    'pandas': '1.3.5',\n",
       "    'lz4': None,\n",
       "    'blosc': None}}},\n",
       " 'client': {'host': {'python': '3.9.7.final.0',\n",
       "   'python-bits': 64,\n",
       "   'OS': 'Windows',\n",
       "   'OS-release': '10',\n",
       "   'machine': 'AMD64',\n",
       "   'processor': 'Intel64 Family 6 Model 165 Stepping 5, GenuineIntel',\n",
       "   'byteorder': 'little',\n",
       "   'LC_ALL': 'None',\n",
       "   'LANG': 'None'},\n",
       "  'packages': {'python': '3.9.7.final.0',\n",
       "   'dask': '2021.11.2',\n",
       "   'distributed': '2021.11.2',\n",
       "   'msgpack': '1.0.3',\n",
       "   'cloudpickle': '2.0.0',\n",
       "   'tornado': '6.1',\n",
       "   'toolz': '0.11.2',\n",
       "   'numpy': '1.22.0',\n",
       "   'pandas': '1.3.5',\n",
       "   'lz4': None,\n",
       "   'blosc': None}}}"
      ]
     },
     "execution_count": 9,
     "metadata": {},
     "output_type": "execute_result"
    }
   ],
   "source": [
    "#Check if module versions are identical\n",
    "client.get_versions(check=True)\n"
   ]
  },
  {
   "cell_type": "markdown",
   "id": "991d0430",
   "metadata": {},
   "source": [
    "# Thank You and Good Luck!\n",
    "- Like & Subscribe for more!\n",
    "- [Github](https://github.com/peterling7710/NumeraiStarterPack) with the notebooks for this series\n",
    "- Find my socials [here](https://linktr.ee/peterling) for more numer.ai related content"
   ]
  },
  {
   "cell_type": "code",
   "execution_count": 21,
   "id": "f158767f",
   "metadata": {},
   "outputs": [],
   "source": [
    "client.close()"
   ]
  },
  {
   "cell_type": "markdown",
   "id": "78dd49a6",
   "metadata": {},
   "source": [
    "<img src=\"images/TAF.jpg\"/>"
   ]
  },
  {
   "cell_type": "code",
   "execution_count": null,
   "id": "41eef997",
   "metadata": {},
   "outputs": [],
   "source": []
  }
 ],
 "metadata": {
  "celltoolbar": "Slideshow",
  "kernelspec": {
   "display_name": "Python 3 (ipykernel)",
   "language": "python",
   "name": "python3"
  },
  "language_info": {
   "codemirror_mode": {
    "name": "ipython",
    "version": 3
   },
   "file_extension": ".py",
   "mimetype": "text/x-python",
   "name": "python",
   "nbconvert_exporter": "python",
   "pygments_lexer": "ipython3",
   "version": "3.9.7"
  },
  "varInspector": {
   "cols": {
    "lenName": 16,
    "lenType": 16,
    "lenVar": 40
   },
   "kernels_config": {
    "python": {
     "delete_cmd_postfix": "",
     "delete_cmd_prefix": "del ",
     "library": "var_list.py",
     "varRefreshCmd": "print(var_dic_list())"
    },
    "r": {
     "delete_cmd_postfix": ") ",
     "delete_cmd_prefix": "rm(",
     "library": "var_list.r",
     "varRefreshCmd": "cat(var_dic_list()) "
    }
   },
   "types_to_exclude": [
    "module",
    "function",
    "builtin_function_or_method",
    "instance",
    "_Feature"
   ],
   "window_display": false
  }
 },
 "nbformat": 4,
 "nbformat_minor": 5
}
